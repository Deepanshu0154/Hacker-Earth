{
 "cells": [
  {
   "cell_type": "code",
   "execution_count": 2,
   "id": "09e40b7b",
   "metadata": {},
   "outputs": [
    {
     "name": "stdout",
     "output_type": "stream",
     "text": [
      "1\n",
      "1\n",
      "2\n",
      "2\n",
      "88\n",
      "88\n",
      "42\n"
     ]
    }
   ],
   "source": [
    "A = True\n",
    "while A:\n",
    "    n=int(input())\n",
    "    if n!=42:\n",
    "        print(n)\n",
    "    else:\n",
    "        A=False"
   ]
  }
 ],
 "metadata": {
  "kernelspec": {
   "display_name": "Python 3",
   "language": "python",
   "name": "python3"
  },
  "language_info": {
   "codemirror_mode": {
    "name": "ipython",
    "version": 3
   },
   "file_extension": ".py",
   "mimetype": "text/x-python",
   "name": "python",
   "nbconvert_exporter": "python",
   "pygments_lexer": "ipython3",
   "version": "3.8.8"
  }
 },
 "nbformat": 4,
 "nbformat_minor": 5
}
