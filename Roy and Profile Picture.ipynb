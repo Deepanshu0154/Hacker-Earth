{
 "cells": [
  {
   "cell_type": "code",
   "execution_count": 25,
   "id": "09e40b7b",
   "metadata": {},
   "outputs": [
    {
     "name": "stdout",
     "output_type": "stream",
     "text": [
      "180\n",
      "3\n",
      "640 480\n",
      "CROP IT\n",
      "120 300\n",
      "UPLOAD ANOTHER\n",
      "180 180\n",
      "ACCEPTED\n"
     ]
    }
   ],
   "source": [
    "L = int(input())\n",
    "N = int(input())\n",
    "for i in range(N):\n",
    "    i = list(map(int,input().split(' ')))\n",
    "    if i[0]<L or i[1]<L:\n",
    "        print('UPLOAD ANOTHER')\n",
    "    elif i[0]==i[1]:\n",
    "        print('ACCEPTED')\n",
    "    elif i[0]>L or i[1]>L:\n",
    "        print('CROP IT')\n",
    "    else:\n",
    "        print('ACCEPTED')"
   ]
  }
 ],
 "metadata": {
  "kernelspec": {
   "display_name": "Python 3",
   "language": "python",
   "name": "python3"
  },
  "language_info": {
   "codemirror_mode": {
    "name": "ipython",
    "version": 3
   },
   "file_extension": ".py",
   "mimetype": "text/x-python",
   "name": "python",
   "nbconvert_exporter": "python",
   "pygments_lexer": "ipython3",
   "version": "3.8.8"
  }
 },
 "nbformat": 4,
 "nbformat_minor": 5
}
