{
 "cells": [
  {
   "cell_type": "code",
   "execution_count": 1,
   "id": "09e40b7b",
   "metadata": {},
   "outputs": [
    {
     "name": "stdout",
     "output_type": "stream",
     "text": [
      "5\n",
      "H...H\n",
      "HBBBH\n"
     ]
    }
   ],
   "source": [
    "n = int(input())\n",
    "a = input()\n",
    "y=''\n",
    "if 'HH'in a:\n",
    "    print('NO')\n",
    "else:\n",
    "    for i in a:\n",
    "        if i=='.':\n",
    "            y+='B'\n",
    "        else:\n",
    "            y+='H'\n",
    "print(y) "
   ]
  }
 ],
 "metadata": {
  "kernelspec": {
   "display_name": "Python 3",
   "language": "python",
   "name": "python3"
  },
  "language_info": {
   "codemirror_mode": {
    "name": "ipython",
    "version": 3
   },
   "file_extension": ".py",
   "mimetype": "text/x-python",
   "name": "python",
   "nbconvert_exporter": "python",
   "pygments_lexer": "ipython3",
   "version": "3.8.8"
  }
 },
 "nbformat": 4,
 "nbformat_minor": 5
}
